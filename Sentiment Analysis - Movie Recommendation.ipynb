{
 "cells": [
  {
   "cell_type": "code",
   "execution_count": 10,
   "id": "d9c81d14",
   "metadata": {},
   "outputs": [
    {
     "name": "stdout",
     "output_type": "stream",
     "text": [
      "Enter the emotion: Anticipation\n",
      "1. Furiosa: A Mad Max Saga\n",
      "2. Bad Boys: Ride or Die\n",
      "3. Civil War\n",
      "4. Venom: The Last Dance\n",
      "5. Under Paris\n",
      "6. The Watchers\n",
      "7. Atlas\n",
      "8. Mad Max: Fury Road\n",
      "9. In a Violent Nature\n",
      "10. Colors of Evil: Red\n",
      "11. Godzilla X Kong: The New Empire\n",
      "12. Wolfs\n"
     ]
    }
   ],
   "source": [
    "import requests\n",
    "from bs4 import BeautifulSoup\n",
    "import re\n",
    "\n",
    "def main(emotion):\n",
    "    # IMDb Urls for different genres based on emotions\n",
    "    if emotion == \"Sad\":\n",
    "        urlhere = 'https://www.imdb.com/search/title?genres=drama&title_type=feature&sort=moviemeter,asc'\n",
    "    elif emotion == \"Disgust\":\n",
    "        urlhere = 'https://www.imdb.com/search/title?genres=horror&title_type=feature&sort=moviemeter,asc'\n",
    "    elif emotion == \"Anticipation\":\n",
    "        urlhere = 'https://www.imdb.com/search/title?genres=thriller&title_type=feature&sort=moviemeter,asc'\n",
    "    elif emotion == \"Fear\":\n",
    "        urlhere = 'https://www.imdb.com/search/title?genres=horror&title_type=feature&sort=moviemeter,asc'\n",
    "    elif emotion == \"Enjoyment\":\n",
    "        urlhere = 'https://www.imdb.com/search/title?genres=comedy&title_type=feature&sort=moviemeter,asc'\n",
    "    elif emotion == \"Trust\":\n",
    "        urlhere = 'https://www.imdb.com/search/title?genres=family&title_type=feature&sort=moviemeter,asc'\n",
    "    elif emotion == \"Surprise\":\n",
    "        urlhere = 'https://www.imdb.com/search/title?genres=mystery&title_type=feature&sort=moviemeter,asc'\n",
    "    else:\n",
    "        return \"Invalid emotion\"\n",
    "\n",
    "    # Define headers to mimic a browser request\n",
    "    headers = {\n",
    "        'User-Agent': 'Mozilla/5.0 (Windows NT 10.0; Win64; x64) AppleWebKit/537.36 (KHTML, like Gecko) Chrome/91.0.4472.124 Safari/537.36'\n",
    "    }\n",
    "\n",
    "    # HTTP request to get the data of the whole page\n",
    "    try:\n",
    "        response = requests.get(urlhere, headers=headers)\n",
    "        response.raise_for_status()\n",
    "        data = response.text\n",
    "    except requests.exceptions.RequestException as e:\n",
    "        return f\"HTTP request failed: {e}\"\n",
    "\n",
    "    # Parsing the data using BeautifulSoup\n",
    "    soup = BeautifulSoup(data, \"lxml\")\n",
    "\n",
    "    # Extract movie titles from the data using regex\n",
    "    titles = []\n",
    "    for link in soup.find_all(\"a\", attrs={\"href\": re.compile(r'\\/title\\/tt+\\d*\\/')}):\n",
    "        title = link.text.strip()\n",
    "        if title:  # Ensure it's not an empty string\n",
    "            titles.append(title)\n",
    "\n",
    "    return titles\n",
    "\n",
    "if __name__ == '__main__':\n",
    "    emotion = input(\"Enter the emotion: \").capitalize()\n",
    "    movie_titles = main(emotion)\n",
    "    \n",
    "    if isinstance(movie_titles, str):\n",
    "        # This means an error message was returned\n",
    "        print(movie_titles)\n",
    "    else:\n",
    "        count = 0\n",
    "        limit = 14 if emotion in [\"Disgust\", \"Anger\", \"Surprise\"] else 12\n",
    "        \n",
    "        for title in movie_titles:\n",
    "            print(title)\n",
    "            count += 1\n",
    "            if count >= limit:\n",
    "                break\n"
   ]
  }
 ],
 "metadata": {
  "kernelspec": {
   "display_name": "Python 3 (ipykernel)",
   "language": "python",
   "name": "python3"
  },
  "language_info": {
   "codemirror_mode": {
    "name": "ipython",
    "version": 3
   },
   "file_extension": ".py",
   "mimetype": "text/x-python",
   "name": "python",
   "nbconvert_exporter": "python",
   "pygments_lexer": "ipython3",
   "version": "3.9.13"
  }
 },
 "nbformat": 4,
 "nbformat_minor": 5
}
